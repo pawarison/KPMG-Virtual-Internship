{
  "cells":[
    {
      "cell_type":"code",
      "source":[
        "!pip install openpyxl"
      ],
      "execution_count":195,
      "outputs":[
        {
          "name":"stdout",
          "text":[
            "Requirement already satisfied: openpyxl in \/opt\/python\/envs\/default\/lib\/python3.8\/site-packages (3.0.9)\r\n",
            "Requirement already satisfied: et-xmlfile in \/opt\/python\/envs\/default\/lib\/python3.8\/site-packages (from openpyxl) (1.1.0)\r\n"
          ],
          "output_type":"stream"
        }
      ],
      "metadata":{
        
      }
    },
    {
      "cell_type":"code",
      "source":[
        "import numpy as np\n",
        "import pandas as pd\n",
        "import seaborn as sns\n",
        "import matplotlib.pyplot as plt\n",
        "import warnings\n",
        "warnings.filterwarnings(\"ignore\") \n",
        "pd.set_option('display.max_columns', 100)\n",
        "pd.set_option('display.width', 1000)\n",
        "%matplotlib inline"
      ],
      "execution_count":329,
      "outputs":[
        
      ],
      "metadata":{
        
      }
    },
    {
      "cell_type":"code",
      "source":[
        "transactdf = pd.read_excel('KPMG_VI_New_raw_data_update_final.xlsx', sheet_name=1, skiprows=1)\n",
        "\n",
        "cusdf = pd.read_excel('KPMG_VI_New_raw_data_update_final.xlsx', sheet_name=3,skiprows=1)\n",
        "cusaddressdf = pd.read_excel('KPMG_VI_New_raw_data_update_final.xlsx', sheet_name=4, skiprows=1)"
      ],
      "execution_count":278,
      "outputs":[
        
      ],
      "metadata":{
        
      }
    },
    {
      "cell_type":"markdown",
      "source":[
        "## Data Assessing"
      ],
      "attachments":{
        
      },
      "metadata":{
        
      }
    },
    {
      "cell_type":"code",
      "source":[
        "transactdf.head(3)"
      ],
      "execution_count":279,
      "outputs":[
        {
          "data":{
            "text\/html":[
              "<div>\n",
              "<style scoped>\n",
              "    .dataframe tbody tr th:only-of-type {\n",
              "        vertical-align: middle;\n",
              "    }\n",
              "\n",
              "    .dataframe tbody tr th {\n",
              "        vertical-align: top;\n",
              "    }\n",
              "\n",
              "    .dataframe thead th {\n",
              "        text-align: right;\n",
              "    }\n",
              "<\/style>\n",
              "<table border=\"1\" class=\"dataframe\">\n",
              "  <thead>\n",
              "    <tr style=\"text-align: right;\">\n",
              "      <th><\/th>\n",
              "      <th>transaction_id<\/th>\n",
              "      <th>product_id<\/th>\n",
              "      <th>customer_id<\/th>\n",
              "      <th>transaction_date<\/th>\n",
              "      <th>online_order<\/th>\n",
              "      <th>order_status<\/th>\n",
              "      <th>brand<\/th>\n",
              "      <th>product_line<\/th>\n",
              "      <th>product_class<\/th>\n",
              "      <th>product_size<\/th>\n",
              "      <th>list_price<\/th>\n",
              "      <th>standard_cost<\/th>\n",
              "      <th>product_first_sold_date<\/th>\n",
              "    <\/tr>\n",
              "  <\/thead>\n",
              "  <tbody>\n",
              "    <tr>\n",
              "      <th>0<\/th>\n",
              "      <td>1<\/td>\n",
              "      <td>2<\/td>\n",
              "      <td>2950<\/td>\n",
              "      <td>2017-02-25<\/td>\n",
              "      <td>0.000<\/td>\n",
              "      <td>Approved<\/td>\n",
              "      <td>Solex<\/td>\n",
              "      <td>Standard<\/td>\n",
              "      <td>medium<\/td>\n",
              "      <td>medium<\/td>\n",
              "      <td>71.490<\/td>\n",
              "      <td>53.620<\/td>\n",
              "      <td>41245.000<\/td>\n",
              "    <\/tr>\n",
              "    <tr>\n",
              "      <th>1<\/th>\n",
              "      <td>2<\/td>\n",
              "      <td>3<\/td>\n",
              "      <td>3120<\/td>\n",
              "      <td>2017-05-21<\/td>\n",
              "      <td>1.000<\/td>\n",
              "      <td>Approved<\/td>\n",
              "      <td>Trek Bicycles<\/td>\n",
              "      <td>Standard<\/td>\n",
              "      <td>medium<\/td>\n",
              "      <td>large<\/td>\n",
              "      <td>2091.470<\/td>\n",
              "      <td>388.920<\/td>\n",
              "      <td>41701.000<\/td>\n",
              "    <\/tr>\n",
              "    <tr>\n",
              "      <th>2<\/th>\n",
              "      <td>3<\/td>\n",
              "      <td>37<\/td>\n",
              "      <td>402<\/td>\n",
              "      <td>2017-10-16<\/td>\n",
              "      <td>0.000<\/td>\n",
              "      <td>Approved<\/td>\n",
              "      <td>OHM Cycles<\/td>\n",
              "      <td>Standard<\/td>\n",
              "      <td>low<\/td>\n",
              "      <td>medium<\/td>\n",
              "      <td>1793.430<\/td>\n",
              "      <td>248.820<\/td>\n",
              "      <td>36361.000<\/td>\n",
              "    <\/tr>\n",
              "  <\/tbody>\n",
              "<\/table>\n",
              "<\/div>"
            ]
          },
          "metadata":{
            
          },
          "output_type":"display_data"
        }
      ],
      "metadata":{
        
      }
    },
    {
      "cell_type":"code",
      "source":[
        "cusdf.head(3)"
      ],
      "execution_count":280,
      "outputs":[
        {
          "data":{
            "text\/html":[
              "<div>\n",
              "<style scoped>\n",
              "    .dataframe tbody tr th:only-of-type {\n",
              "        vertical-align: middle;\n",
              "    }\n",
              "\n",
              "    .dataframe tbody tr th {\n",
              "        vertical-align: top;\n",
              "    }\n",
              "\n",
              "    .dataframe thead th {\n",
              "        text-align: right;\n",
              "    }\n",
              "<\/style>\n",
              "<table border=\"1\" class=\"dataframe\">\n",
              "  <thead>\n",
              "    <tr style=\"text-align: right;\">\n",
              "      <th><\/th>\n",
              "      <th>customer_id<\/th>\n",
              "      <th>first_name<\/th>\n",
              "      <th>last_name<\/th>\n",
              "      <th>gender<\/th>\n",
              "      <th>past_3_years_bike_related_purchases<\/th>\n",
              "      <th>DOB<\/th>\n",
              "      <th>job_title<\/th>\n",
              "      <th>job_industry_category<\/th>\n",
              "      <th>wealth_segment<\/th>\n",
              "      <th>deceased_indicator<\/th>\n",
              "      <th>default<\/th>\n",
              "      <th>owns_car<\/th>\n",
              "      <th>tenure<\/th>\n",
              "    <\/tr>\n",
              "  <\/thead>\n",
              "  <tbody>\n",
              "    <tr>\n",
              "      <th>0<\/th>\n",
              "      <td>1<\/td>\n",
              "      <td>Laraine<\/td>\n",
              "      <td>Medendorp<\/td>\n",
              "      <td>F<\/td>\n",
              "      <td>93<\/td>\n",
              "      <td>1953-10-12<\/td>\n",
              "      <td>Executive Secretary<\/td>\n",
              "      <td>Health<\/td>\n",
              "      <td>Mass Customer<\/td>\n",
              "      <td>N<\/td>\n",
              "      <td>\"'<\/td>\n",
              "      <td>Yes<\/td>\n",
              "      <td>11.000<\/td>\n",
              "    <\/tr>\n",
              "    <tr>\n",
              "      <th>1<\/th>\n",
              "      <td>2<\/td>\n",
              "      <td>Eli<\/td>\n",
              "      <td>Bockman<\/td>\n",
              "      <td>Male<\/td>\n",
              "      <td>81<\/td>\n",
              "      <td>1980-12-16<\/td>\n",
              "      <td>Administrative Officer<\/td>\n",
              "      <td>Financial Services<\/td>\n",
              "      <td>Mass Customer<\/td>\n",
              "      <td>N<\/td>\n",
              "      <td>&lt;script&gt;alert('hi')&lt;\/script&gt;<\/td>\n",
              "      <td>Yes<\/td>\n",
              "      <td>16.000<\/td>\n",
              "    <\/tr>\n",
              "    <tr>\n",
              "      <th>2<\/th>\n",
              "      <td>3<\/td>\n",
              "      <td>Arlin<\/td>\n",
              "      <td>Dearle<\/td>\n",
              "      <td>Male<\/td>\n",
              "      <td>61<\/td>\n",
              "      <td>1954-01-20<\/td>\n",
              "      <td>Recruiting Manager<\/td>\n",
              "      <td>Property<\/td>\n",
              "      <td>Mass Customer<\/td>\n",
              "      <td>N<\/td>\n",
              "      <td>2018-02-01 00:00:00<\/td>\n",
              "      <td>Yes<\/td>\n",
              "      <td>15.000<\/td>\n",
              "    <\/tr>\n",
              "  <\/tbody>\n",
              "<\/table>\n",
              "<\/div>"
            ]
          },
          "metadata":{
            
          },
          "output_type":"display_data"
        }
      ],
      "metadata":{
        
      }
    },
    {
      "cell_type":"code",
      "source":[
        "cusaddressdf.head(3)"
      ],
      "execution_count":281,
      "outputs":[
        {
          "data":{
            "text\/html":[
              "<div>\n",
              "<style scoped>\n",
              "    .dataframe tbody tr th:only-of-type {\n",
              "        vertical-align: middle;\n",
              "    }\n",
              "\n",
              "    .dataframe tbody tr th {\n",
              "        vertical-align: top;\n",
              "    }\n",
              "\n",
              "    .dataframe thead th {\n",
              "        text-align: right;\n",
              "    }\n",
              "<\/style>\n",
              "<table border=\"1\" class=\"dataframe\">\n",
              "  <thead>\n",
              "    <tr style=\"text-align: right;\">\n",
              "      <th><\/th>\n",
              "      <th>customer_id<\/th>\n",
              "      <th>address<\/th>\n",
              "      <th>postcode<\/th>\n",
              "      <th>state<\/th>\n",
              "      <th>country<\/th>\n",
              "      <th>property_valuation<\/th>\n",
              "    <\/tr>\n",
              "  <\/thead>\n",
              "  <tbody>\n",
              "    <tr>\n",
              "      <th>0<\/th>\n",
              "      <td>1<\/td>\n",
              "      <td>060 Morning Avenue<\/td>\n",
              "      <td>2016<\/td>\n",
              "      <td>New South Wales<\/td>\n",
              "      <td>Australia<\/td>\n",
              "      <td>10<\/td>\n",
              "    <\/tr>\n",
              "    <tr>\n",
              "      <th>1<\/th>\n",
              "      <td>2<\/td>\n",
              "      <td>6 Meadow Vale Court<\/td>\n",
              "      <td>2153<\/td>\n",
              "      <td>New South Wales<\/td>\n",
              "      <td>Australia<\/td>\n",
              "      <td>10<\/td>\n",
              "    <\/tr>\n",
              "    <tr>\n",
              "      <th>2<\/th>\n",
              "      <td>4<\/td>\n",
              "      <td>0 Holy Cross Court<\/td>\n",
              "      <td>4211<\/td>\n",
              "      <td>QLD<\/td>\n",
              "      <td>Australia<\/td>\n",
              "      <td>9<\/td>\n",
              "    <\/tr>\n",
              "  <\/tbody>\n",
              "<\/table>\n",
              "<\/div>"
            ]
          },
          "metadata":{
            
          },
          "output_type":"display_data"
        }
      ],
      "metadata":{
        
      }
    },
    {
      "cell_type":"code",
      "source":[
        "cusdf =cusdf[['customer_id', 'first_name', 'last_name', 'gender',\n",
        "       'past_3_years_bike_related_purchases', 'DOB', 'job_title',\n",
        "       'job_industry_category', 'wealth_segment', 'deceased_indicator',\n",
        "       'default', 'owns_car', 'tenure']]"
      ],
      "execution_count":282,
      "outputs":[
        
      ],
      "metadata":{
        
      }
    },
    {
      "cell_type":"code",
      "source":[
        "cusaddressdf =cusaddressdf[['customer_id', 'address', 'postcode', 'state', 'country',\n",
        "       'property_valuation']]"
      ],
      "execution_count":283,
      "outputs":[
        
      ],
      "metadata":{
        
      }
    },
    {
      "cell_type":"code",
      "source":[
        "cusdf.info()"
      ],
      "execution_count":284,
      "outputs":[
        {
          "name":"stdout",
          "text":[
            "<class 'pandas.core.frame.DataFrame'>\n",
            "RangeIndex: 4000 entries, 0 to 3999\n",
            "Data columns (total 13 columns):\n",
            " #   Column                               Non-Null Count  Dtype         \n",
            "---  ------                               --------------  -----         \n",
            " 0   customer_id                          4000 non-null   int64         \n",
            " 1   first_name                           4000 non-null   object        \n",
            " 2   last_name                            3875 non-null   object        \n",
            " 3   gender                               4000 non-null   object        \n",
            " 4   past_3_years_bike_related_purchases  4000 non-null   int64         \n",
            " 5   DOB                                  3913 non-null   datetime64[ns]\n",
            " 6   job_title                            3494 non-null   object        \n",
            " 7   job_industry_category                3344 non-null   object        \n",
            " 8   wealth_segment                       4000 non-null   object        \n",
            " 9   deceased_indicator                   4000 non-null   object        \n",
            " 10  default                              3698 non-null   object        \n",
            " 11  owns_car                             4000 non-null   object        \n",
            " 12  tenure                               3913 non-null   float64       \n",
            "dtypes: datetime64[ns](1), float64(1), int64(2), object(9)\n",
            "memory usage: 406.4+ KB\n"
          ],
          "output_type":"stream"
        }
      ],
      "metadata":{
        
      }
    },
    {
      "cell_type":"code",
      "source":[
        "transactdf.info()"
      ],
      "execution_count":285,
      "outputs":[
        {
          "name":"stdout",
          "text":[
            "<class 'pandas.core.frame.DataFrame'>\n",
            "RangeIndex: 20000 entries, 0 to 19999\n",
            "Data columns (total 13 columns):\n",
            " #   Column                   Non-Null Count  Dtype         \n",
            "---  ------                   --------------  -----         \n",
            " 0   transaction_id           20000 non-null  int64         \n",
            " 1   product_id               20000 non-null  int64         \n",
            " 2   customer_id              20000 non-null  int64         \n",
            " 3   transaction_date         20000 non-null  datetime64[ns]\n",
            " 4   online_order             19640 non-null  float64       \n",
            " 5   order_status             20000 non-null  object        \n",
            " 6   brand                    19803 non-null  object        \n",
            " 7   product_line             19803 non-null  object        \n",
            " 8   product_class            19803 non-null  object        \n",
            " 9   product_size             19803 non-null  object        \n",
            " 10  list_price               20000 non-null  float64       \n",
            " 11  standard_cost            19803 non-null  float64       \n",
            " 12  product_first_sold_date  19803 non-null  float64       \n",
            "dtypes: datetime64[ns](1), float64(4), int64(3), object(5)\n",
            "memory usage: 2.0+ MB\n"
          ],
          "output_type":"stream"
        }
      ],
      "metadata":{
        
      }
    },
    {
      "cell_type":"code",
      "source":[
        "customerdf = pd.merge(cusdf,cusaddressdf, on='customer_id')"
      ],
      "execution_count":286,
      "outputs":[
        
      ],
      "metadata":{
        
      }
    },
    {
      "cell_type":"code",
      "source":[
        "customerdf.drop(columns='default', inplace=True)"
      ],
      "execution_count":287,
      "outputs":[
        
      ],
      "metadata":{
        
      }
    },
    {
      "cell_type":"code",
      "source":[
        "customerdf.isnull().mean()"
      ],
      "execution_count":288,
      "outputs":[
        {
          "data":{
            "text\/html":[
              
            ]
          },
          "metadata":{
            
          },
          "output_type":"display_data"
        }
      ],
      "metadata":{
        
      }
    },
    {
      "cell_type":"code",
      "source":[
        "customerdf.dropna(subset=['gender','DOB'], inplace=True)"
      ],
      "execution_count":289,
      "outputs":[
        
      ],
      "metadata":{
        
      }
    },
    {
      "cell_type":"code",
      "source":[
        "customerdf.gender = customerdf.gender.str[0]"
      ],
      "execution_count":290,
      "outputs":[
        
      ],
      "metadata":{
        
      }
    },
    {
      "cell_type":"code",
      "source":[
        "customerdf = customerdf[customerdf['gender'] != 'U']"
      ],
      "execution_count":291,
      "outputs":[
        
      ],
      "metadata":{
        
      }
    },
    {
      "cell_type":"code",
      "source":[
        "customerdf.gender = customerdf.gender.str[0].astype('category')"
      ],
      "execution_count":292,
      "outputs":[
        
      ],
      "metadata":{
        
      }
    },
    {
      "cell_type":"code",
      "source":[
        "customerdf['age']= 2021 - customerdf.DOB.dt.year"
      ],
      "execution_count":293,
      "outputs":[
        
      ],
      "metadata":{
        
      }
    },
    {
      "cell_type":"code",
      "source":[
        "transactdf.isnull().sum()"
      ],
      "execution_count":294,
      "outputs":[
        {
          "data":{
            "text\/html":[
              
            ]
          },
          "metadata":{
            
          },
          "output_type":"display_data"
        }
      ],
      "metadata":{
        
      }
    },
    {
      "cell_type":"code",
      "source":[
        "customerdf.reset_index(drop=True, inplace=True)"
      ],
      "execution_count":295,
      "outputs":[
        
      ],
      "metadata":{
        
      }
    },
    {
      "cell_type":"code",
      "source":[
        "customerdf.columns"
      ],
      "execution_count":296,
      "outputs":[
        {
          "data":{
            "text\/plain":[
              "Index(['customer_id', 'first_name', 'last_name', 'gender', 'past_3_years_bike_related_purchases', 'DOB', 'job_title', 'job_industry_category', 'wealth_segment', 'deceased_indicator', 'owns_car', 'tenure', 'address', 'postcode', 'state', 'country', 'property_valuation', 'age'], dtype='object')"
            ]
          },
          "metadata":{
            
          },
          "output_type":"display_data"
        }
      ],
      "metadata":{
        
      }
    },
    {
      "cell_type":"code",
      "source":[
        "customerdf.owns_car.value_counts()"
      ],
      "execution_count":297,
      "outputs":[
        {
          "data":{
            "text\/html":[
              
            ]
          },
          "metadata":{
            
          },
          "output_type":"display_data"
        }
      ],
      "metadata":{
        
      }
    },
    {
      "cell_type":"code",
      "source":[
        "customerdf.job_title"
      ],
      "execution_count":298,
      "outputs":[
        {
          "data":{
            "text\/html":[
              
            ]
          },
          "metadata":{
            
          },
          "output_type":"display_data"
        }
      ],
      "metadata":{
        
      }
    },
    {
      "cell_type":"code",
      "source":[
        "customerdf.isnull().mean()"
      ],
      "execution_count":299,
      "outputs":[
        {
          "data":{
            "text\/html":[
              
            ]
          },
          "metadata":{
            
          },
          "output_type":"display_data"
        }
      ],
      "metadata":{
        
      }
    },
    {
      "cell_type":"code",
      "source":[
        "transactdf.describe().T"
      ],
      "execution_count":300,
      "outputs":[
        {
          "data":{
            "text\/html":[
              "<div>\n",
              "<style scoped>\n",
              "    .dataframe tbody tr th:only-of-type {\n",
              "        vertical-align: middle;\n",
              "    }\n",
              "\n",
              "    .dataframe tbody tr th {\n",
              "        vertical-align: top;\n",
              "    }\n",
              "\n",
              "    .dataframe thead th {\n",
              "        text-align: right;\n",
              "    }\n",
              "<\/style>\n",
              "<table border=\"1\" class=\"dataframe\">\n",
              "  <thead>\n",
              "    <tr style=\"text-align: right;\">\n",
              "      <th><\/th>\n",
              "      <th>count<\/th>\n",
              "      <th>mean<\/th>\n",
              "      <th>std<\/th>\n",
              "      <th>min<\/th>\n",
              "      <th>25%<\/th>\n",
              "      <th>50%<\/th>\n",
              "      <th>75%<\/th>\n",
              "      <th>max<\/th>\n",
              "    <\/tr>\n",
              "  <\/thead>\n",
              "  <tbody>\n",
              "    <tr>\n",
              "      <th>transaction_id<\/th>\n",
              "      <td>20000.000<\/td>\n",
              "      <td>10000.500<\/td>\n",
              "      <td>5773.647<\/td>\n",
              "      <td>1.000<\/td>\n",
              "      <td>5000.750<\/td>\n",
              "      <td>10000.500<\/td>\n",
              "      <td>15000.250<\/td>\n",
              "      <td>20000.000<\/td>\n",
              "    <\/tr>\n",
              "    <tr>\n",
              "      <th>product_id<\/th>\n",
              "      <td>20000.000<\/td>\n",
              "      <td>45.365<\/td>\n",
              "      <td>30.754<\/td>\n",
              "      <td>0.000<\/td>\n",
              "      <td>18.000<\/td>\n",
              "      <td>44.000<\/td>\n",
              "      <td>72.000<\/td>\n",
              "      <td>100.000<\/td>\n",
              "    <\/tr>\n",
              "    <tr>\n",
              "      <th>customer_id<\/th>\n",
              "      <td>20000.000<\/td>\n",
              "      <td>1738.246<\/td>\n",
              "      <td>1011.951<\/td>\n",
              "      <td>1.000<\/td>\n",
              "      <td>857.750<\/td>\n",
              "      <td>1736.000<\/td>\n",
              "      <td>2613.000<\/td>\n",
              "      <td>5034.000<\/td>\n",
              "    <\/tr>\n",
              "    <tr>\n",
              "      <th>online_order<\/th>\n",
              "      <td>19640.000<\/td>\n",
              "      <td>0.500<\/td>\n",
              "      <td>0.500<\/td>\n",
              "      <td>0.000<\/td>\n",
              "      <td>0.000<\/td>\n",
              "      <td>1.000<\/td>\n",
              "      <td>1.000<\/td>\n",
              "      <td>1.000<\/td>\n",
              "    <\/tr>\n",
              "    <tr>\n",
              "      <th>list_price<\/th>\n",
              "      <td>20000.000<\/td>\n",
              "      <td>1107.829<\/td>\n",
              "      <td>582.825<\/td>\n",
              "      <td>12.010<\/td>\n",
              "      <td>575.270<\/td>\n",
              "      <td>1163.890<\/td>\n",
              "      <td>1635.300<\/td>\n",
              "      <td>2091.470<\/td>\n",
              "    <\/tr>\n",
              "    <tr>\n",
              "      <th>standard_cost<\/th>\n",
              "      <td>19803.000<\/td>\n",
              "      <td>556.047<\/td>\n",
              "      <td>405.956<\/td>\n",
              "      <td>7.210<\/td>\n",
              "      <td>215.140<\/td>\n",
              "      <td>507.580<\/td>\n",
              "      <td>795.100<\/td>\n",
              "      <td>1759.850<\/td>\n",
              "    <\/tr>\n",
              "    <tr>\n",
              "      <th>product_first_sold_date<\/th>\n",
              "      <td>19803.000<\/td>\n",
              "      <td>38199.777<\/td>\n",
              "      <td>2875.201<\/td>\n",
              "      <td>33259.000<\/td>\n",
              "      <td>35667.000<\/td>\n",
              "      <td>38216.000<\/td>\n",
              "      <td>40672.000<\/td>\n",
              "      <td>42710.000<\/td>\n",
              "    <\/tr>\n",
              "  <\/tbody>\n",
              "<\/table>\n",
              "<\/div>"
            ]
          },
          "metadata":{
            
          },
          "output_type":"display_data"
        }
      ],
      "metadata":{
        
      }
    },
    {
      "cell_type":"code",
      "source":[
        "transactdf.list_price.plot(kind = 'hist')"
      ],
      "execution_count":301,
      "outputs":[
        {
          "data":{
            "text\/plain":[
              "<AxesSubplot:ylabel='Frequency'>"
            ],
            "image\/png":"[encoded data removed]"
          },
          "metadata":{
            "image\/png":{
              
            }
          },
          "output_type":"display_data"
        }
      ],
      "metadata":{
        
      }
    },
    {
      "cell_type":"code",
      "source":[
        "transactdf.product_size.value_counts()"
      ],
      "execution_count":302,
      "outputs":[
        {
          "data":{
            "text\/html":[
              
            ]
          },
          "metadata":{
            
          },
          "output_type":"display_data"
        }
      ],
      "metadata":{
        
      }
    },
    {
      "cell_type":"code",
      "source":[
        "transactdf.product_size = transactdf.product_size.astype('category')"
      ],
      "execution_count":303,
      "outputs":[
        
      ],
      "metadata":{
        
      }
    },
    {
      "cell_type":"code",
      "source":[
        "transactdf.head()"
      ],
      "execution_count":304,
      "outputs":[
        {
          "data":{
            "text\/html":[
              "<div>\n",
              "<style scoped>\n",
              "    .dataframe tbody tr th:only-of-type {\n",
              "        vertical-align: middle;\n",
              "    }\n",
              "\n",
              "    .dataframe tbody tr th {\n",
              "        vertical-align: top;\n",
              "    }\n",
              "\n",
              "    .dataframe thead th {\n",
              "        text-align: right;\n",
              "    }\n",
              "<\/style>\n",
              "<table border=\"1\" class=\"dataframe\">\n",
              "  <thead>\n",
              "    <tr style=\"text-align: right;\">\n",
              "      <th><\/th>\n",
              "      <th>transaction_id<\/th>\n",
              "      <th>product_id<\/th>\n",
              "      <th>customer_id<\/th>\n",
              "      <th>transaction_date<\/th>\n",
              "      <th>online_order<\/th>\n",
              "      <th>order_status<\/th>\n",
              "      <th>brand<\/th>\n",
              "      <th>product_line<\/th>\n",
              "      <th>product_class<\/th>\n",
              "      <th>product_size<\/th>\n",
              "      <th>list_price<\/th>\n",
              "      <th>standard_cost<\/th>\n",
              "      <th>product_first_sold_date<\/th>\n",
              "    <\/tr>\n",
              "  <\/thead>\n",
              "  <tbody>\n",
              "    <tr>\n",
              "      <th>0<\/th>\n",
              "      <td>1<\/td>\n",
              "      <td>2<\/td>\n",
              "      <td>2950<\/td>\n",
              "      <td>2017-02-25<\/td>\n",
              "      <td>0.000<\/td>\n",
              "      <td>Approved<\/td>\n",
              "      <td>Solex<\/td>\n",
              "      <td>Standard<\/td>\n",
              "      <td>medium<\/td>\n",
              "      <td>medium<\/td>\n",
              "      <td>71.490<\/td>\n",
              "      <td>53.620<\/td>\n",
              "      <td>41245.000<\/td>\n",
              "    <\/tr>\n",
              "    <tr>\n",
              "      <th>1<\/th>\n",
              "      <td>2<\/td>\n",
              "      <td>3<\/td>\n",
              "      <td>3120<\/td>\n",
              "      <td>2017-05-21<\/td>\n",
              "      <td>1.000<\/td>\n",
              "      <td>Approved<\/td>\n",
              "      <td>Trek Bicycles<\/td>\n",
              "      <td>Standard<\/td>\n",
              "      <td>medium<\/td>\n",
              "      <td>large<\/td>\n",
              "      <td>2091.470<\/td>\n",
              "      <td>388.920<\/td>\n",
              "      <td>41701.000<\/td>\n",
              "    <\/tr>\n",
              "    <tr>\n",
              "      <th>2<\/th>\n",
              "      <td>3<\/td>\n",
              "      <td>37<\/td>\n",
              "      <td>402<\/td>\n",
              "      <td>2017-10-16<\/td>\n",
              "      <td>0.000<\/td>\n",
              "      <td>Approved<\/td>\n",
              "      <td>OHM Cycles<\/td>\n",
              "      <td>Standard<\/td>\n",
              "      <td>low<\/td>\n",
              "      <td>medium<\/td>\n",
              "      <td>1793.430<\/td>\n",
              "      <td>248.820<\/td>\n",
              "      <td>36361.000<\/td>\n",
              "    <\/tr>\n",
              "    <tr>\n",
              "      <th>3<\/th>\n",
              "      <td>4<\/td>\n",
              "      <td>88<\/td>\n",
              "      <td>3135<\/td>\n",
              "      <td>2017-08-31<\/td>\n",
              "      <td>0.000<\/td>\n",
              "      <td>Approved<\/td>\n",
              "      <td>Norco Bicycles<\/td>\n",
              "      <td>Standard<\/td>\n",
              "      <td>medium<\/td>\n",
              "      <td>medium<\/td>\n",
              "      <td>1198.460<\/td>\n",
              "      <td>381.100<\/td>\n",
              "      <td>36145.000<\/td>\n",
              "    <\/tr>\n",
              "    <tr>\n",
              "      <th>4<\/th>\n",
              "      <td>5<\/td>\n",
              "      <td>78<\/td>\n",
              "      <td>787<\/td>\n",
              "      <td>2017-10-01<\/td>\n",
              "      <td>1.000<\/td>\n",
              "      <td>Approved<\/td>\n",
              "      <td>Giant Bicycles<\/td>\n",
              "      <td>Standard<\/td>\n",
              "      <td>medium<\/td>\n",
              "      <td>large<\/td>\n",
              "      <td>1765.300<\/td>\n",
              "      <td>709.480<\/td>\n",
              "      <td>42226.000<\/td>\n",
              "    <\/tr>\n",
              "  <\/tbody>\n",
              "<\/table>\n",
              "<\/div>"
            ]
          },
          "metadata":{
            
          },
          "output_type":"display_data"
        }
      ],
      "metadata":{
        
      }
    },
    {
      "cell_type":"code",
      "source":[
        "customerdf.head(3)"
      ],
      "execution_count":305,
      "outputs":[
        {
          "data":{
            "text\/html":[
              "<div>\n",
              "<style scoped>\n",
              "    .dataframe tbody tr th:only-of-type {\n",
              "        vertical-align: middle;\n",
              "    }\n",
              "\n",
              "    .dataframe tbody tr th {\n",
              "        vertical-align: top;\n",
              "    }\n",
              "\n",
              "    .dataframe thead th {\n",
              "        text-align: right;\n",
              "    }\n",
              "<\/style>\n",
              "<table border=\"1\" class=\"dataframe\">\n",
              "  <thead>\n",
              "    <tr style=\"text-align: right;\">\n",
              "      <th><\/th>\n",
              "      <th>customer_id<\/th>\n",
              "      <th>first_name<\/th>\n",
              "      <th>last_name<\/th>\n",
              "      <th>gender<\/th>\n",
              "      <th>past_3_years_bike_related_purchases<\/th>\n",
              "      <th>DOB<\/th>\n",
              "      <th>job_title<\/th>\n",
              "      <th>job_industry_category<\/th>\n",
              "      <th>wealth_segment<\/th>\n",
              "      <th>deceased_indicator<\/th>\n",
              "      <th>owns_car<\/th>\n",
              "      <th>tenure<\/th>\n",
              "      <th>address<\/th>\n",
              "      <th>postcode<\/th>\n",
              "      <th>state<\/th>\n",
              "      <th>country<\/th>\n",
              "      <th>property_valuation<\/th>\n",
              "      <th>age<\/th>\n",
              "    <\/tr>\n",
              "  <\/thead>\n",
              "  <tbody>\n",
              "    <tr>\n",
              "      <th>0<\/th>\n",
              "      <td>1<\/td>\n",
              "      <td>Laraine<\/td>\n",
              "      <td>Medendorp<\/td>\n",
              "      <td>F<\/td>\n",
              "      <td>93<\/td>\n",
              "      <td>1953-10-12<\/td>\n",
              "      <td>Executive Secretary<\/td>\n",
              "      <td>Health<\/td>\n",
              "      <td>Mass Customer<\/td>\n",
              "      <td>N<\/td>\n",
              "      <td>Yes<\/td>\n",
              "      <td>11.000<\/td>\n",
              "      <td>060 Morning Avenue<\/td>\n",
              "      <td>2016<\/td>\n",
              "      <td>New South Wales<\/td>\n",
              "      <td>Australia<\/td>\n",
              "      <td>10<\/td>\n",
              "      <td>68<\/td>\n",
              "    <\/tr>\n",
              "    <tr>\n",
              "      <th>1<\/th>\n",
              "      <td>2<\/td>\n",
              "      <td>Eli<\/td>\n",
              "      <td>Bockman<\/td>\n",
              "      <td>M<\/td>\n",
              "      <td>81<\/td>\n",
              "      <td>1980-12-16<\/td>\n",
              "      <td>Administrative Officer<\/td>\n",
              "      <td>Financial Services<\/td>\n",
              "      <td>Mass Customer<\/td>\n",
              "      <td>N<\/td>\n",
              "      <td>Yes<\/td>\n",
              "      <td>16.000<\/td>\n",
              "      <td>6 Meadow Vale Court<\/td>\n",
              "      <td>2153<\/td>\n",
              "      <td>New South Wales<\/td>\n",
              "      <td>Australia<\/td>\n",
              "      <td>10<\/td>\n",
              "      <td>41<\/td>\n",
              "    <\/tr>\n",
              "    <tr>\n",
              "      <th>2<\/th>\n",
              "      <td>4<\/td>\n",
              "      <td>Talbot<\/td>\n",
              "      <td>NaN<\/td>\n",
              "      <td>M<\/td>\n",
              "      <td>33<\/td>\n",
              "      <td>1961-10-03<\/td>\n",
              "      <td>NaN<\/td>\n",
              "      <td>IT<\/td>\n",
              "      <td>Mass Customer<\/td>\n",
              "      <td>N<\/td>\n",
              "      <td>No<\/td>\n",
              "      <td>7.000<\/td>\n",
              "      <td>0 Holy Cross Court<\/td>\n",
              "      <td>4211<\/td>\n",
              "      <td>QLD<\/td>\n",
              "      <td>Australia<\/td>\n",
              "      <td>9<\/td>\n",
              "      <td>60<\/td>\n",
              "    <\/tr>\n",
              "  <\/tbody>\n",
              "<\/table>\n",
              "<\/div>"
            ]
          },
          "metadata":{
            
          },
          "output_type":"display_data"
        }
      ],
      "metadata":{
        
      }
    },
    {
      "cell_type":"code",
      "source":[
        "fulldf = pd.merge(transactdf,customerdf, how='inner', on = 'customer_id')"
      ],
      "execution_count":306,
      "outputs":[
        
      ],
      "metadata":{
        
      }
    },
    {
      "cell_type":"code",
      "source":[
        "fulldf.groupby('customer_id')[['transaction_date']].max()"
      ],
      "execution_count":307,
      "outputs":[
        {
          "data":{
            "text\/html":[
              "<div>\n",
              "<style scoped>\n",
              "    .dataframe tbody tr th:only-of-type {\n",
              "        vertical-align: middle;\n",
              "    }\n",
              "\n",
              "    .dataframe tbody tr th {\n",
              "        vertical-align: top;\n",
              "    }\n",
              "\n",
              "    .dataframe thead th {\n",
              "        text-align: right;\n",
              "    }\n",
              "<\/style>\n",
              "<table border=\"1\" class=\"dataframe\">\n",
              "  <thead>\n",
              "    <tr style=\"text-align: right;\">\n",
              "      <th><\/th>\n",
              "      <th>transaction_date<\/th>\n",
              "    <\/tr>\n",
              "    <tr>\n",
              "      <th>customer_id<\/th>\n",
              "      <th><\/th>\n",
              "    <\/tr>\n",
              "  <\/thead>\n",
              "  <tbody>\n",
              "    <tr>\n",
              "      <th>1<\/th>\n",
              "      <td>2017-12-23<\/td>\n",
              "    <\/tr>\n",
              "    <tr>\n",
              "      <th>2<\/th>\n",
              "      <td>2017-08-24<\/td>\n",
              "    <\/tr>\n",
              "    <tr>\n",
              "      <th>4<\/th>\n",
              "      <td>2017-06-18<\/td>\n",
              "    <\/tr>\n",
              "    <tr>\n",
              "      <th>5<\/th>\n",
              "      <td>2017-12-14<\/td>\n",
              "    <\/tr>\n",
              "    <tr>\n",
              "      <th>6<\/th>\n",
              "      <td>2017-10-27<\/td>\n",
              "    <\/tr>\n",
              "    <tr>\n",
              "      <th>...<\/th>\n",
              "      <td>...<\/td>\n",
              "    <\/tr>\n",
              "    <tr>\n",
              "      <th>3496<\/th>\n",
              "      <td>2017-04-18<\/td>\n",
              "    <\/tr>\n",
              "    <tr>\n",
              "      <th>3497<\/th>\n",
              "      <td>2017-11-08<\/td>\n",
              "    <\/tr>\n",
              "    <tr>\n",
              "      <th>3498<\/th>\n",
              "      <td>2017-08-25<\/td>\n",
              "    <\/tr>\n",
              "    <tr>\n",
              "      <th>3499<\/th>\n",
              "      <td>2017-11-09<\/td>\n",
              "    <\/tr>\n",
              "    <tr>\n",
              "      <th>3500<\/th>\n",
              "      <td>2017-08-08<\/td>\n",
              "    <\/tr>\n",
              "  <\/tbody>\n",
              "<\/table>\n",
              "<p>3412 rows × 1 columns<\/p>\n",
              "<\/div>"
            ]
          },
          "metadata":{
            
          },
          "output_type":"display_data"
        }
      ],
      "metadata":{
        
      }
    },
    {
      "cell_type":"code",
      "source":[
        "transactdf.to_excel('transactdf.xlsx')"
      ],
      "execution_count":227,
      "outputs":[
        
      ],
      "metadata":{
        
      }
    },
    {
      "cell_type":"markdown",
      "source":[
        "### Descriptive Analysis"
      ],
      "attachments":{
        
      },
      "metadata":{
        
      }
    },
    {
      "cell_type":"code",
      "source":[
        "plt.figure(figsize=(10,6))\n",
        "sns.distplot(customerdf.age)"
      ],
      "execution_count":308,
      "outputs":[
        {
          "data":{
            "text\/plain":[
              "<AxesSubplot:xlabel='age', ylabel='Density'>"
            ],
            "image\/png":"[encoded data removed]"
          },
          "metadata":{
            "image\/png":{
              
            }
          },
          "output_type":"display_data"
        }
      ],
      "metadata":{
        
      }
    },
    {
      "cell_type":"code",
      "source":[
        "sns.boxplot(customerdf.age)\n",
        "plt.title('Box plot of age')\n",
        "plt.show()"
      ],
      "execution_count":309,
      "outputs":[
        {
          "data":{
            "image\/png":"[encoded data removed]"
          },
          "metadata":{
            "image\/png":{
              
            }
          },
          "output_type":"display_data"
        }
      ],
      "metadata":{
        
      }
    },
    {
      "cell_type":"code",
      "source":[
        "fulldf.groupby('wealth_segment')[['transaction_id']].count()"
      ],
      "execution_count":310,
      "outputs":[
        {
          "data":{
            "text\/html":[
              "<div>\n",
              "<style scoped>\n",
              "    .dataframe tbody tr th:only-of-type {\n",
              "        vertical-align: middle;\n",
              "    }\n",
              "\n",
              "    .dataframe tbody tr th {\n",
              "        vertical-align: top;\n",
              "    }\n",
              "\n",
              "    .dataframe thead th {\n",
              "        text-align: right;\n",
              "    }\n",
              "<\/style>\n",
              "<table border=\"1\" class=\"dataframe\">\n",
              "  <thead>\n",
              "    <tr style=\"text-align: right;\">\n",
              "      <th><\/th>\n",
              "      <th>transaction_id<\/th>\n",
              "    <\/tr>\n",
              "    <tr>\n",
              "      <th>wealth_segment<\/th>\n",
              "      <th><\/th>\n",
              "    <\/tr>\n",
              "  <\/thead>\n",
              "  <tbody>\n",
              "    <tr>\n",
              "      <th>Affluent Customer<\/th>\n",
              "      <td>4765<\/td>\n",
              "    <\/tr>\n",
              "    <tr>\n",
              "      <th>High Net Worth<\/th>\n",
              "      <td>4965<\/td>\n",
              "    <\/tr>\n",
              "    <tr>\n",
              "      <th>Mass Customer<\/th>\n",
              "      <td>9783<\/td>\n",
              "    <\/tr>\n",
              "  <\/tbody>\n",
              "<\/table>\n",
              "<\/div>"
            ]
          },
          "metadata":{
            
          },
          "output_type":"display_data"
        }
      ],
      "metadata":{
        
      }
    },
    {
      "cell_type":"code",
      "source":[
        "fulldf['profit'] =fulldf.list_price - fulldf.standard_cost"
      ],
      "execution_count":311,
      "outputs":[
        
      ],
      "metadata":{
        
      }
    },
    {
      "cell_type":"code",
      "source":[
        "fulldf.groupby('product_id')[['profit']].mean().sort_values('profit', ascending = False).head(10)"
      ],
      "execution_count":312,
      "outputs":[
        {
          "data":{
            "text\/html":[
              "<div>\n",
              "<style scoped>\n",
              "    .dataframe tbody tr th:only-of-type {\n",
              "        vertical-align: middle;\n",
              "    }\n",
              "\n",
              "    .dataframe tbody tr th {\n",
              "        vertical-align: top;\n",
              "    }\n",
              "\n",
              "    .dataframe thead th {\n",
              "        text-align: right;\n",
              "    }\n",
              "<\/style>\n",
              "<table border=\"1\" class=\"dataframe\">\n",
              "  <thead>\n",
              "    <tr style=\"text-align: right;\">\n",
              "      <th><\/th>\n",
              "      <th>profit<\/th>\n",
              "    <\/tr>\n",
              "    <tr>\n",
              "      <th>product_id<\/th>\n",
              "      <th><\/th>\n",
              "    <\/tr>\n",
              "  <\/thead>\n",
              "  <tbody>\n",
              "    <tr>\n",
              "      <th>3<\/th>\n",
              "      <td>1702.550<\/td>\n",
              "    <\/tr>\n",
              "    <tr>\n",
              "      <th>44<\/th>\n",
              "      <td>1660.880<\/td>\n",
              "    <\/tr>\n",
              "    <tr>\n",
              "      <th>57<\/th>\n",
              "      <td>1630.250<\/td>\n",
              "    <\/tr>\n",
              "    <tr>\n",
              "      <th>73<\/th>\n",
              "      <td>1612.250<\/td>\n",
              "    <\/tr>\n",
              "    <tr>\n",
              "      <th>68<\/th>\n",
              "      <td>1592.190<\/td>\n",
              "    <\/tr>\n",
              "    <tr>\n",
              "      <th>37<\/th>\n",
              "      <td>1544.610<\/td>\n",
              "    <\/tr>\n",
              "    <tr>\n",
              "      <th>83<\/th>\n",
              "      <td>1408.910<\/td>\n",
              "    <\/tr>\n",
              "    <tr>\n",
              "      <th>63<\/th>\n",
              "      <td>1349.247<\/td>\n",
              "    <\/tr>\n",
              "    <tr>\n",
              "      <th>46<\/th>\n",
              "      <td>1323.965<\/td>\n",
              "    <\/tr>\n",
              "    <tr>\n",
              "      <th>55<\/th>\n",
              "      <td>1295.430<\/td>\n",
              "    <\/tr>\n",
              "  <\/tbody>\n",
              "<\/table>\n",
              "<\/div>"
            ]
          },
          "metadata":{
            
          },
          "output_type":"display_data"
        }
      ],
      "metadata":{
        
      }
    },
    {
      "cell_type":"code",
      "source":[
        "# Create yearmont columns\n",
        "fulldf.insert(4, 'year_month',fulldf.transaction_date.dt.to_period('M'))"
      ],
      "execution_count":313,
      "outputs":[
        
      ],
      "metadata":{
        
      }
    },
    {
      "cell_type":"code",
      "source":[
        "# revenue and profit per month\n",
        "yearmonth = fulldf.groupby('year_month')[['list_price','profit']].sum()\n",
        "yearmonth.columns = ['revenue', 'profit']\n",
        "yearmonth"
      ],
      "execution_count":314,
      "outputs":[
        {
          "data":{
            "text\/html":[
              "<div>\n",
              "<style scoped>\n",
              "    .dataframe tbody tr th:only-of-type {\n",
              "        vertical-align: middle;\n",
              "    }\n",
              "\n",
              "    .dataframe tbody tr th {\n",
              "        vertical-align: top;\n",
              "    }\n",
              "\n",
              "    .dataframe thead th {\n",
              "        text-align: right;\n",
              "    }\n",
              "<\/style>\n",
              "<table border=\"1\" class=\"dataframe\">\n",
              "  <thead>\n",
              "    <tr style=\"text-align: right;\">\n",
              "      <th><\/th>\n",
              "      <th>revenue<\/th>\n",
              "      <th>profit<\/th>\n",
              "    <\/tr>\n",
              "    <tr>\n",
              "      <th>year_month<\/th>\n",
              "      <th><\/th>\n",
              "      <th><\/th>\n",
              "    <\/tr>\n",
              "  <\/thead>\n",
              "  <tbody>\n",
              "    <tr>\n",
              "      <th>2017-01<\/th>\n",
              "      <td>1815620.790<\/td>\n",
              "      <td>903117.950<\/td>\n",
              "    <\/tr>\n",
              "    <tr>\n",
              "      <th>2017-02<\/th>\n",
              "      <td>1768982.620<\/td>\n",
              "      <td>854247.670<\/td>\n",
              "    <\/tr>\n",
              "    <tr>\n",
              "      <th>2017-03<\/th>\n",
              "      <td>1765982.690<\/td>\n",
              "      <td>852913.830<\/td>\n",
              "    <\/tr>\n",
              "    <tr>\n",
              "      <th>2017-04<\/th>\n",
              "      <td>1784131.610<\/td>\n",
              "      <td>877253.210<\/td>\n",
              "    <\/tr>\n",
              "    <tr>\n",
              "      <th>2017-05<\/th>\n",
              "      <td>1875694.920<\/td>\n",
              "      <td>898367.460<\/td>\n",
              "    <\/tr>\n",
              "    <tr>\n",
              "      <th>2017-06<\/th>\n",
              "      <td>1701528.080<\/td>\n",
              "      <td>834076.150<\/td>\n",
              "    <\/tr>\n",
              "    <tr>\n",
              "      <th>2017-07<\/th>\n",
              "      <td>1837210.280<\/td>\n",
              "      <td>910387.590<\/td>\n",
              "    <\/tr>\n",
              "    <tr>\n",
              "      <th>2017-08<\/th>\n",
              "      <td>1882308.190<\/td>\n",
              "      <td>939474.660<\/td>\n",
              "    <\/tr>\n",
              "    <tr>\n",
              "      <th>2017-09<\/th>\n",
              "      <td>1703411.160<\/td>\n",
              "      <td>842762.480<\/td>\n",
              "    <\/tr>\n",
              "    <tr>\n",
              "      <th>2017-10<\/th>\n",
              "      <td>1928192.840<\/td>\n",
              "      <td>969933.030<\/td>\n",
              "    <\/tr>\n",
              "    <tr>\n",
              "      <th>2017-11<\/th>\n",
              "      <td>1782512.610<\/td>\n",
              "      <td>905818.250<\/td>\n",
              "    <\/tr>\n",
              "    <tr>\n",
              "      <th>2017-12<\/th>\n",
              "      <td>1741208.300<\/td>\n",
              "      <td>854983.900<\/td>\n",
              "    <\/tr>\n",
              "  <\/tbody>\n",
              "<\/table>\n",
              "<\/div>"
            ]
          },
          "metadata":{
            
          },
          "output_type":"display_data"
        }
      ],
      "metadata":{
        
      }
    },
    {
      "cell_type":"code",
      "source":[
        "# Transaction per month\n",
        "fulldf.groupby('year_month')[['online_order']].count().plot()"
      ],
      "execution_count":315,
      "outputs":[
        {
          "data":{
            "text\/plain":[
              "<AxesSubplot:xlabel='year_month'>"
            ],
            "image\/png":"[encoded data removed]"
          },
          "metadata":{
            "image\/png":{
              
            }
          },
          "output_type":"display_data"
        }
      ],
      "metadata":{
        
      }
    },
    {
      "cell_type":"markdown",
      "source":[
        "-----------------------"
      ],
      "attachments":{
        
      },
      "metadata":{
        
      }
    },
    {
      "cell_type":"markdown",
      "source":[
        "# RFM Analysis and Customer Classification"
      ],
      "attachments":{
        
      },
      "metadata":{
        
      }
    },
    {
      "cell_type":"code",
      "source":[
        "fulldf.head(1)"
      ],
      "execution_count":316,
      "outputs":[
        {
          "data":{
            "text\/html":[
              "<div>\n",
              "<style scoped>\n",
              "    .dataframe tbody tr th:only-of-type {\n",
              "        vertical-align: middle;\n",
              "    }\n",
              "\n",
              "    .dataframe tbody tr th {\n",
              "        vertical-align: top;\n",
              "    }\n",
              "\n",
              "    .dataframe thead th {\n",
              "        text-align: right;\n",
              "    }\n",
              "<\/style>\n",
              "<table border=\"1\" class=\"dataframe\">\n",
              "  <thead>\n",
              "    <tr style=\"text-align: right;\">\n",
              "      <th><\/th>\n",
              "      <th>transaction_id<\/th>\n",
              "      <th>product_id<\/th>\n",
              "      <th>customer_id<\/th>\n",
              "      <th>transaction_date<\/th>\n",
              "      <th>year_month<\/th>\n",
              "      <th>online_order<\/th>\n",
              "      <th>order_status<\/th>\n",
              "      <th>brand<\/th>\n",
              "      <th>product_line<\/th>\n",
              "      <th>product_class<\/th>\n",
              "      <th>product_size<\/th>\n",
              "      <th>list_price<\/th>\n",
              "      <th>standard_cost<\/th>\n",
              "      <th>product_first_sold_date<\/th>\n",
              "      <th>first_name<\/th>\n",
              "      <th>last_name<\/th>\n",
              "      <th>gender<\/th>\n",
              "      <th>past_3_years_bike_related_purchases<\/th>\n",
              "      <th>DOB<\/th>\n",
              "      <th>job_title<\/th>\n",
              "      <th>job_industry_category<\/th>\n",
              "      <th>wealth_segment<\/th>\n",
              "      <th>deceased_indicator<\/th>\n",
              "      <th>owns_car<\/th>\n",
              "      <th>tenure<\/th>\n",
              "      <th>address<\/th>\n",
              "      <th>postcode<\/th>\n",
              "      <th>state<\/th>\n",
              "      <th>country<\/th>\n",
              "      <th>property_valuation<\/th>\n",
              "      <th>age<\/th>\n",
              "      <th>profit<\/th>\n",
              "    <\/tr>\n",
              "  <\/thead>\n",
              "  <tbody>\n",
              "    <tr>\n",
              "      <th>0<\/th>\n",
              "      <td>1<\/td>\n",
              "      <td>2<\/td>\n",
              "      <td>2950<\/td>\n",
              "      <td>2017-02-25<\/td>\n",
              "      <td>2017-02<\/td>\n",
              "      <td>0.000<\/td>\n",
              "      <td>Approved<\/td>\n",
              "      <td>Solex<\/td>\n",
              "      <td>Standard<\/td>\n",
              "      <td>medium<\/td>\n",
              "      <td>medium<\/td>\n",
              "      <td>71.490<\/td>\n",
              "      <td>53.620<\/td>\n",
              "      <td>41245.000<\/td>\n",
              "      <td>Kristos<\/td>\n",
              "      <td>Anthony<\/td>\n",
              "      <td>M<\/td>\n",
              "      <td>19<\/td>\n",
              "      <td>1955-01-11<\/td>\n",
              "      <td>Software Engineer I<\/td>\n",
              "      <td>Financial Services<\/td>\n",
              "      <td>Mass Customer<\/td>\n",
              "      <td>N<\/td>\n",
              "      <td>Yes<\/td>\n",
              "      <td>10.000<\/td>\n",
              "      <td>984 Hoepker Court<\/td>\n",
              "      <td>3064<\/td>\n",
              "      <td>VIC<\/td>\n",
              "      <td>Australia<\/td>\n",
              "      <td>6<\/td>\n",
              "      <td>66<\/td>\n",
              "      <td>17.870<\/td>\n",
              "    <\/tr>\n",
              "  <\/tbody>\n",
              "<\/table>\n",
              "<\/div>"
            ]
          },
          "metadata":{
            
          },
          "output_type":"display_data"
        }
      ],
      "metadata":{
        
      }
    },
    {
      "cell_type":"markdown",
      "source":[
        "### Calculate RFM "
      ],
      "attachments":{
        
      },
      "metadata":{
        
      }
    },
    {
      "cell_type":"code",
      "source":[
        "rfm = fulldf.groupby('customer_id')[['transaction_id']].count()"
      ],
      "execution_count":317,
      "outputs":[
        
      ],
      "metadata":{
        
      }
    },
    {
      "cell_type":"code",
      "source":[
        "rfm.columns = ['Frequency']"
      ],
      "execution_count":318,
      "outputs":[
        
      ],
      "metadata":{
        
      }
    },
    {
      "cell_type":"code",
      "source":[
        "rfm['Monetary'] = fulldf.groupby('customer_id')['profit'].mean()"
      ],
      "execution_count":319,
      "outputs":[
        
      ],
      "metadata":{
        
      }
    },
    {
      "cell_type":"code",
      "source":[
        "fulldf['comparedate'] = pd.to_datetime('2017-12-31')\n",
        "fulldf['datediff'] = fulldf['comparedate'] - fulldf['transaction_date']\n",
        "fulldf['datediff'] = fulldf['datediff'].astype('str').str.extract(r'(\\d+)')\n",
        "fulldf['datediff'] = fulldf['datediff'].astype('int')"
      ],
      "execution_count":330,
      "outputs":[
        
      ],
      "metadata":{
        
      }
    },
    {
      "cell_type":"code",
      "source":[
        "rfm['Recency'] = fulldf.groupby('customer_id')[['datediff']].min()"
      ],
      "execution_count":338,
      "outputs":[
        
      ],
      "metadata":{
        
      }
    },
    {
      "cell_type":"code",
      "source":[
        "rfm.Recency = rfm.Recency.astype('str').str.extract(r'(\\d+)')\n",
        "rfm.Recency = rfm.Recency.astype('int')"
      ],
      "execution_count":241,
      "outputs":[
        
      ],
      "metadata":{
        
      }
    },
    {
      "cell_type":"code",
      "source":[
        "rfm.head()"
      ],
      "execution_count":339,
      "outputs":[
        {
          "data":{
            "text\/html":[
              "<div>\n",
              "<style scoped>\n",
              "    .dataframe tbody tr th:only-of-type {\n",
              "        vertical-align: middle;\n",
              "    }\n",
              "\n",
              "    .dataframe tbody tr th {\n",
              "        vertical-align: top;\n",
              "    }\n",
              "\n",
              "    .dataframe thead th {\n",
              "        text-align: right;\n",
              "    }\n",
              "<\/style>\n",
              "<table border=\"1\" class=\"dataframe\">\n",
              "  <thead>\n",
              "    <tr style=\"text-align: right;\">\n",
              "      <th><\/th>\n",
              "      <th>Frequency<\/th>\n",
              "      <th>Monetary<\/th>\n",
              "      <th>Recency<\/th>\n",
              "    <\/tr>\n",
              "    <tr>\n",
              "      <th>customer_id<\/th>\n",
              "      <th><\/th>\n",
              "      <th><\/th>\n",
              "      <th><\/th>\n",
              "    <\/tr>\n",
              "  <\/thead>\n",
              "  <tbody>\n",
              "    <tr>\n",
              "      <th>1<\/th>\n",
              "      <td>11<\/td>\n",
              "      <td>274.372<\/td>\n",
              "      <td>8<\/td>\n",
              "    <\/tr>\n",
              "    <tr>\n",
              "      <th>2<\/th>\n",
              "      <td>3<\/td>\n",
              "      <td>742.087<\/td>\n",
              "      <td>129<\/td>\n",
              "    <\/tr>\n",
              "    <tr>\n",
              "      <th>4<\/th>\n",
              "      <td>2<\/td>\n",
              "      <td>110.285<\/td>\n",
              "      <td>196<\/td>\n",
              "    <\/tr>\n",
              "    <tr>\n",
              "      <th>5<\/th>\n",
              "      <td>6<\/td>\n",
              "      <td>399.157<\/td>\n",
              "      <td>17<\/td>\n",
              "    <\/tr>\n",
              "    <tr>\n",
              "      <th>6<\/th>\n",
              "      <td>5<\/td>\n",
              "      <td>789.310<\/td>\n",
              "      <td>65<\/td>\n",
              "    <\/tr>\n",
              "  <\/tbody>\n",
              "<\/table>\n",
              "<\/div>"
            ]
          },
          "metadata":{
            
          },
          "output_type":"display_data"
        }
      ],
      "metadata":{
        
      }
    },
    {
      "cell_type":"code",
      "source":[
        "rfm.describe().T"
      ],
      "execution_count":340,
      "outputs":[
        {
          "data":{
            "text\/html":[
              "<div>\n",
              "<style scoped>\n",
              "    .dataframe tbody tr th:only-of-type {\n",
              "        vertical-align: middle;\n",
              "    }\n",
              "\n",
              "    .dataframe tbody tr th {\n",
              "        vertical-align: top;\n",
              "    }\n",
              "\n",
              "    .dataframe thead th {\n",
              "        text-align: right;\n",
              "    }\n",
              "<\/style>\n",
              "<table border=\"1\" class=\"dataframe\">\n",
              "  <thead>\n",
              "    <tr style=\"text-align: right;\">\n",
              "      <th><\/th>\n",
              "      <th>count<\/th>\n",
              "      <th>mean<\/th>\n",
              "      <th>std<\/th>\n",
              "      <th>min<\/th>\n",
              "      <th>25%<\/th>\n",
              "      <th>50%<\/th>\n",
              "      <th>75%<\/th>\n",
              "      <th>max<\/th>\n",
              "    <\/tr>\n",
              "  <\/thead>\n",
              "  <tbody>\n",
              "    <tr>\n",
              "      <th>Frequency<\/th>\n",
              "      <td>3412.000<\/td>\n",
              "      <td>5.719<\/td>\n",
              "      <td>2.324<\/td>\n",
              "      <td>1.000<\/td>\n",
              "      <td>4.000<\/td>\n",
              "      <td>6.000<\/td>\n",
              "      <td>7.000<\/td>\n",
              "      <td>14.000<\/td>\n",
              "    <\/tr>\n",
              "    <tr>\n",
              "      <th>Monetary<\/th>\n",
              "      <td>3412.000<\/td>\n",
              "      <td>549.060<\/td>\n",
              "      <td>236.942<\/td>\n",
              "      <td>15.080<\/td>\n",
              "      <td>384.636<\/td>\n",
              "      <td>530.237<\/td>\n",
              "      <td>695.197<\/td>\n",
              "      <td>1702.550<\/td>\n",
              "    <\/tr>\n",
              "    <tr>\n",
              "      <th>Recency<\/th>\n",
              "      <td>3412.000<\/td>\n",
              "      <td>62.095<\/td>\n",
              "      <td>57.949<\/td>\n",
              "      <td>1.000<\/td>\n",
              "      <td>19.000<\/td>\n",
              "      <td>45.000<\/td>\n",
              "      <td>86.000<\/td>\n",
              "      <td>354.000<\/td>\n",
              "    <\/tr>\n",
              "  <\/tbody>\n",
              "<\/table>\n",
              "<\/div>"
            ]
          },
          "metadata":{
            
          },
          "output_type":"display_data"
        }
      ],
      "metadata":{
        
      }
    },
    {
      "cell_type":"markdown",
      "source":[
        "### Calculate Score of RFM"
      ],
      "attachments":{
        
      },
      "metadata":{
        
      }
    },
    {
      "cell_type":"code",
      "source":[
        "def r_score(x):\n",
        "    if x <= np.percentile(rfm.Recency,20):\n",
        "        return 5\n",
        "    elif x <= np.percentile(rfm.Recency,40):\n",
        "        return 4\n",
        "    elif x <= np.percentile(rfm.Recency,60):\n",
        "        return 3\n",
        "    elif x <= np.percentile(rfm.Recency,80):\n",
        "        return 2\n",
        "    else:\n",
        "        return 1\n",
        "\n",
        "def f_score(x):\n",
        "    if x <= np.percentile(rfm.Frequency,20):\n",
        "        return 1\n",
        "    elif x <= np.percentile(rfm.Frequency,40):\n",
        "        return 2\n",
        "    elif x <= np.percentile(rfm.Frequency,60):\n",
        "        return 3\n",
        "    elif x <= np.percentile(rfm.Frequency,80):\n",
        "        return 4\n",
        "    else:\n",
        "        return 5 \n",
        "    \n",
        "def m_score(x):\n",
        "    if x <= np.percentile(rfm.Monetary,20):\n",
        "        return 1\n",
        "    elif x <= np.percentile(rfm.Monetary,40):\n",
        "        return 2\n",
        "    elif x <= np.percentile(rfm.Monetary,60):\n",
        "        return 3\n",
        "    elif x <= np.percentile(rfm.Monetary,80):\n",
        "        return 4\n",
        "    else:\n",
        "        return 5 "
      ],
      "execution_count":341,
      "outputs":[
        
      ],
      "metadata":{
        
      }
    },
    {
      "cell_type":"code",
      "source":[
        "rfm['R'] = rfm['Recency'].apply(r_score)\n",
        "rfm['F'] = rfm['Frequency'].apply(f_score)\n",
        "rfm['M'] = rfm['Monetary'].apply(m_score)"
      ],
      "execution_count":342,
      "outputs":[
        
      ],
      "metadata":{
        
      }
    },
    {
      "cell_type":"code",
      "source":[
        "#Store rfm Data\n",
        "rfm.to_csv('rfm.csv')"
      ],
      "execution_count":343,
      "outputs":[
        
      ],
      "metadata":{
        
      }
    },
    {
      "cell_type":"code",
      "source":[
        "rfm = pd.read_csv('rfm.csv')"
      ],
      "execution_count":344,
      "outputs":[
        
      ],
      "metadata":{
        
      }
    },
    {
      "cell_type":"code",
      "source":[
        "rfm['RFM_Score'] = rfm['R'].map(str) + rfm['F'].map(str) + rfm['M'].map(str)\n",
        "rfm.head()"
      ],
      "execution_count":345,
      "outputs":[
        {
          "data":{
            "text\/html":[
              "<div>\n",
              "<style scoped>\n",
              "    .dataframe tbody tr th:only-of-type {\n",
              "        vertical-align: middle;\n",
              "    }\n",
              "\n",
              "    .dataframe tbody tr th {\n",
              "        vertical-align: top;\n",
              "    }\n",
              "\n",
              "    .dataframe thead th {\n",
              "        text-align: right;\n",
              "    }\n",
              "<\/style>\n",
              "<table border=\"1\" class=\"dataframe\">\n",
              "  <thead>\n",
              "    <tr style=\"text-align: right;\">\n",
              "      <th><\/th>\n",
              "      <th>customer_id<\/th>\n",
              "      <th>Frequency<\/th>\n",
              "      <th>Monetary<\/th>\n",
              "      <th>Recency<\/th>\n",
              "      <th>R<\/th>\n",
              "      <th>F<\/th>\n",
              "      <th>M<\/th>\n",
              "      <th>RFM_Score<\/th>\n",
              "    <\/tr>\n",
              "  <\/thead>\n",
              "  <tbody>\n",
              "    <tr>\n",
              "      <th>0<\/th>\n",
              "      <td>1<\/td>\n",
              "      <td>11<\/td>\n",
              "      <td>274.372<\/td>\n",
              "      <td>8<\/td>\n",
              "      <td>5<\/td>\n",
              "      <td>5<\/td>\n",
              "      <td>1<\/td>\n",
              "      <td>551<\/td>\n",
              "    <\/tr>\n",
              "    <tr>\n",
              "      <th>1<\/th>\n",
              "      <td>2<\/td>\n",
              "      <td>3<\/td>\n",
              "      <td>742.087<\/td>\n",
              "      <td>129<\/td>\n",
              "      <td>1<\/td>\n",
              "      <td>1<\/td>\n",
              "      <td>5<\/td>\n",
              "      <td>115<\/td>\n",
              "    <\/tr>\n",
              "    <tr>\n",
              "      <th>2<\/th>\n",
              "      <td>4<\/td>\n",
              "      <td>2<\/td>\n",
              "      <td>110.285<\/td>\n",
              "      <td>196<\/td>\n",
              "      <td>1<\/td>\n",
              "      <td>1<\/td>\n",
              "      <td>1<\/td>\n",
              "      <td>111<\/td>\n",
              "    <\/tr>\n",
              "    <tr>\n",
              "      <th>3<\/th>\n",
              "      <td>5<\/td>\n",
              "      <td>6<\/td>\n",
              "      <td>399.157<\/td>\n",
              "      <td>17<\/td>\n",
              "      <td>4<\/td>\n",
              "      <td>3<\/td>\n",
              "      <td>2<\/td>\n",
              "      <td>432<\/td>\n",
              "    <\/tr>\n",
              "    <tr>\n",
              "      <th>4<\/th>\n",
              "      <td>6<\/td>\n",
              "      <td>5<\/td>\n",
              "      <td>789.310<\/td>\n",
              "      <td>65<\/td>\n",
              "      <td>2<\/td>\n",
              "      <td>2<\/td>\n",
              "      <td>5<\/td>\n",
              "      <td>225<\/td>\n",
              "    <\/tr>\n",
              "  <\/tbody>\n",
              "<\/table>\n",
              "<\/div>"
            ]
          },
          "metadata":{
            
          },
          "output_type":"display_data"
        }
      ],
      "metadata":{
        
      }
    },
    {
      "cell_type":"markdown",
      "source":[
        "# Customer Classification with RFM Table"
      ],
      "attachments":{
        
      },
      "metadata":{
        
      }
    },
    {
      "cell_type":"code",
      "source":[
        "from IPython.display import Image\n",
        "Image(filename='1_TjJt4rUiBtXLAF84--V-Cg.png')"
      ],
      "execution_count":346,
      "outputs":[
        {
          "data":{
            "image\/png":"[encoded data removed]"
          },
          "metadata":{
            "image\/png":{
              
            }
          },
          "output_type":"display_data"
        }
      ],
      "metadata":{
        
      }
    },
    {
      "cell_type":"code",
      "source":[
        "segt_map = {\n",
        "    r'[1-2][1-2]': 'hibernating',\n",
        "    r'[1-2][3-4]': 'at risk',\n",
        "    r'[1-2]5': 'can\\'t loose',\n",
        "    r'3[1-2]': 'about to sleep',\n",
        "    r'33': 'need attention',\n",
        "    r'[3-4][4-5]': 'loyal customers',\n",
        "    r'41': 'promising',\n",
        "    r'51': 'new customers',\n",
        "    r'[4-5][2-3]': 'potential loyalists',\n",
        "    r'5[4-5]': 'champions'\n",
        "}\n",
        "\n",
        "rfm['Segment'] = rfm['R'].map(str) + rfm['F'].map(str)\n",
        "rfm['Segment'] = rfm['Segment'].replace(segt_map, regex=True)\n",
        "rfm"
      ],
      "execution_count":347,
      "outputs":[
        {
          "data":{
            "text\/html":[
              "<div>\n",
              "<style scoped>\n",
              "    .dataframe tbody tr th:only-of-type {\n",
              "        vertical-align: middle;\n",
              "    }\n",
              "\n",
              "    .dataframe tbody tr th {\n",
              "        vertical-align: top;\n",
              "    }\n",
              "\n",
              "    .dataframe thead th {\n",
              "        text-align: right;\n",
              "    }\n",
              "<\/style>\n",
              "<table border=\"1\" class=\"dataframe\">\n",
              "  <thead>\n",
              "    <tr style=\"text-align: right;\">\n",
              "      <th><\/th>\n",
              "      <th>customer_id<\/th>\n",
              "      <th>Frequency<\/th>\n",
              "      <th>Monetary<\/th>\n",
              "      <th>Recency<\/th>\n",
              "      <th>R<\/th>\n",
              "      <th>F<\/th>\n",
              "      <th>M<\/th>\n",
              "      <th>RFM_Score<\/th>\n",
              "      <th>Segment<\/th>\n",
              "    <\/tr>\n",
              "  <\/thead>\n",
              "  <tbody>\n",
              "    <tr>\n",
              "      <th>0<\/th>\n",
              "      <td>1<\/td>\n",
              "      <td>11<\/td>\n",
              "      <td>274.372<\/td>\n",
              "      <td>8<\/td>\n",
              "      <td>5<\/td>\n",
              "      <td>5<\/td>\n",
              "      <td>1<\/td>\n",
              "      <td>551<\/td>\n",
              "      <td>champions<\/td>\n",
              "    <\/tr>\n",
              "    <tr>\n",
              "      <th>1<\/th>\n",
              "      <td>2<\/td>\n",
              "      <td>3<\/td>\n",
              "      <td>742.087<\/td>\n",
              "      <td>129<\/td>\n",
              "      <td>1<\/td>\n",
              "      <td>1<\/td>\n",
              "      <td>5<\/td>\n",
              "      <td>115<\/td>\n",
              "      <td>hibernating<\/td>\n",
              "    <\/tr>\n",
              "    <tr>\n",
              "      <th>2<\/th>\n",
              "      <td>4<\/td>\n",
              "      <td>2<\/td>\n",
              "      <td>110.285<\/td>\n",
              "      <td>196<\/td>\n",
              "      <td>1<\/td>\n",
              "      <td>1<\/td>\n",
              "      <td>1<\/td>\n",
              "      <td>111<\/td>\n",
              "      <td>hibernating<\/td>\n",
              "    <\/tr>\n",
              "    <tr>\n",
              "      <th>3<\/th>\n",
              "      <td>5<\/td>\n",
              "      <td>6<\/td>\n",
              "      <td>399.157<\/td>\n",
              "      <td>17<\/td>\n",
              "      <td>4<\/td>\n",
              "      <td>3<\/td>\n",
              "      <td>2<\/td>\n",
              "      <td>432<\/td>\n",
              "      <td>potential loyalists<\/td>\n",
              "    <\/tr>\n",
              "    <tr>\n",
              "      <th>4<\/th>\n",
              "      <td>6<\/td>\n",
              "      <td>5<\/td>\n",
              "      <td>789.310<\/td>\n",
              "      <td>65<\/td>\n",
              "      <td>2<\/td>\n",
              "      <td>2<\/td>\n",
              "      <td>5<\/td>\n",
              "      <td>225<\/td>\n",
              "      <td>hibernating<\/td>\n",
              "    <\/tr>\n",
              "    <tr>\n",
              "      <th>...<\/th>\n",
              "      <td>...<\/td>\n",
              "      <td>...<\/td>\n",
              "      <td>...<\/td>\n",
              "      <td>...<\/td>\n",
              "      <td>...<\/td>\n",
              "      <td>...<\/td>\n",
              "      <td>...<\/td>\n",
              "      <td>...<\/td>\n",
              "      <td>...<\/td>\n",
              "    <\/tr>\n",
              "    <tr>\n",
              "      <th>3407<\/th>\n",
              "      <td>3496<\/td>\n",
              "      <td>4<\/td>\n",
              "      <td>511.460<\/td>\n",
              "      <td>257<\/td>\n",
              "      <td>1<\/td>\n",
              "      <td>1<\/td>\n",
              "      <td>3<\/td>\n",
              "      <td>113<\/td>\n",
              "      <td>hibernating<\/td>\n",
              "    <\/tr>\n",
              "    <tr>\n",
              "      <th>3408<\/th>\n",
              "      <td>3497<\/td>\n",
              "      <td>3<\/td>\n",
              "      <td>549.440<\/td>\n",
              "      <td>53<\/td>\n",
              "      <td>3<\/td>\n",
              "      <td>1<\/td>\n",
              "      <td>3<\/td>\n",
              "      <td>313<\/td>\n",
              "      <td>about to sleep<\/td>\n",
              "    <\/tr>\n",
              "    <tr>\n",
              "      <th>3409<\/th>\n",
              "      <td>3498<\/td>\n",
              "      <td>6<\/td>\n",
              "      <td>524.555<\/td>\n",
              "      <td>128<\/td>\n",
              "      <td>1<\/td>\n",
              "      <td>3<\/td>\n",
              "      <td>3<\/td>\n",
              "      <td>133<\/td>\n",
              "      <td>at risk<\/td>\n",
              "    <\/tr>\n",
              "    <tr>\n",
              "      <th>3410<\/th>\n",
              "      <td>3499<\/td>\n",
              "      <td>7<\/td>\n",
              "      <td>707.893<\/td>\n",
              "      <td>52<\/td>\n",
              "      <td>3<\/td>\n",
              "      <td>4<\/td>\n",
              "      <td>4<\/td>\n",
              "      <td>344<\/td>\n",
              "      <td>loyal customers<\/td>\n",
              "    <\/tr>\n",
              "    <tr>\n",
              "      <th>3411<\/th>\n",
              "      <td>3500<\/td>\n",
              "      <td>6<\/td>\n",
              "      <td>297.643<\/td>\n",
              "      <td>145<\/td>\n",
              "      <td>1<\/td>\n",
              "      <td>3<\/td>\n",
              "      <td>1<\/td>\n",
              "      <td>131<\/td>\n",
              "      <td>at risk<\/td>\n",
              "    <\/tr>\n",
              "  <\/tbody>\n",
              "<\/table>\n",
              "<p>3412 rows × 9 columns<\/p>\n",
              "<\/div>"
            ]
          },
          "metadata":{
            
          },
          "output_type":"display_data"
        }
      ],
      "metadata":{
        
      }
    },
    {
      "cell_type":"markdown",
      "source":[
        "# Customer Classification with K-means Clustering"
      ],
      "attachments":{
        
      },
      "metadata":{
        
      }
    },
    {
      "cell_type":"code",
      "source":[
        "rfm1 = pd.read_csv('rfm.csv',index_col='customer_id')"
      ],
      "execution_count":348,
      "outputs":[
        
      ],
      "metadata":{
        
      }
    },
    {
      "cell_type":"code",
      "source":[
        "rfm1 = rfm1[['Frequency', 'Monetary', 'Recency']]\n",
        "rfm1"
      ],
      "execution_count":349,
      "outputs":[
        {
          "data":{
            "text\/html":[
              "<div>\n",
              "<style scoped>\n",
              "    .dataframe tbody tr th:only-of-type {\n",
              "        vertical-align: middle;\n",
              "    }\n",
              "\n",
              "    .dataframe tbody tr th {\n",
              "        vertical-align: top;\n",
              "    }\n",
              "\n",
              "    .dataframe thead th {\n",
              "        text-align: right;\n",
              "    }\n",
              "<\/style>\n",
              "<table border=\"1\" class=\"dataframe\">\n",
              "  <thead>\n",
              "    <tr style=\"text-align: right;\">\n",
              "      <th><\/th>\n",
              "      <th>Frequency<\/th>\n",
              "      <th>Monetary<\/th>\n",
              "      <th>Recency<\/th>\n",
              "    <\/tr>\n",
              "    <tr>\n",
              "      <th>customer_id<\/th>\n",
              "      <th><\/th>\n",
              "      <th><\/th>\n",
              "      <th><\/th>\n",
              "    <\/tr>\n",
              "  <\/thead>\n",
              "  <tbody>\n",
              "    <tr>\n",
              "      <th>1<\/th>\n",
              "      <td>11<\/td>\n",
              "      <td>274.372<\/td>\n",
              "      <td>8<\/td>\n",
              "    <\/tr>\n",
              "    <tr>\n",
              "      <th>2<\/th>\n",
              "      <td>3<\/td>\n",
              "      <td>742.087<\/td>\n",
              "      <td>129<\/td>\n",
              "    <\/tr>\n",
              "    <tr>\n",
              "      <th>4<\/th>\n",
              "      <td>2<\/td>\n",
              "      <td>110.285<\/td>\n",
              "      <td>196<\/td>\n",
              "    <\/tr>\n",
              "    <tr>\n",
              "      <th>5<\/th>\n",
              "      <td>6<\/td>\n",
              "      <td>399.157<\/td>\n",
              "      <td>17<\/td>\n",
              "    <\/tr>\n",
              "    <tr>\n",
              "      <th>6<\/th>\n",
              "      <td>5<\/td>\n",
              "      <td>789.310<\/td>\n",
              "      <td>65<\/td>\n",
              "    <\/tr>\n",
              "    <tr>\n",
              "      <th>...<\/th>\n",
              "      <td>...<\/td>\n",
              "      <td>...<\/td>\n",
              "      <td>...<\/td>\n",
              "    <\/tr>\n",
              "    <tr>\n",
              "      <th>3496<\/th>\n",
              "      <td>4<\/td>\n",
              "      <td>511.460<\/td>\n",
              "      <td>257<\/td>\n",
              "    <\/tr>\n",
              "    <tr>\n",
              "      <th>3497<\/th>\n",
              "      <td>3<\/td>\n",
              "      <td>549.440<\/td>\n",
              "      <td>53<\/td>\n",
              "    <\/tr>\n",
              "    <tr>\n",
              "      <th>3498<\/th>\n",
              "      <td>6<\/td>\n",
              "      <td>524.555<\/td>\n",
              "      <td>128<\/td>\n",
              "    <\/tr>\n",
              "    <tr>\n",
              "      <th>3499<\/th>\n",
              "      <td>7<\/td>\n",
              "      <td>707.893<\/td>\n",
              "      <td>52<\/td>\n",
              "    <\/tr>\n",
              "    <tr>\n",
              "      <th>3500<\/th>\n",
              "      <td>6<\/td>\n",
              "      <td>297.643<\/td>\n",
              "      <td>145<\/td>\n",
              "    <\/tr>\n",
              "  <\/tbody>\n",
              "<\/table>\n",
              "<p>3412 rows × 3 columns<\/p>\n",
              "<\/div>"
            ]
          },
          "metadata":{
            
          },
          "output_type":"display_data"
        }
      ],
      "metadata":{
        
      }
    },
    {
      "cell_type":"code",
      "source":[
        "#StandardScaler to standarize\n",
        "from sklearn.cluster import KMeans\n",
        "from sklearn.preprocessing import StandardScaler\n",
        "scaler = StandardScaler()\n",
        "\n",
        "RFMnorm = scaler.fit_transform(rfm1)\n",
        "RFMnorm"
      ],
      "execution_count":350,
      "outputs":[
        {
          "data":{
            "text\/html":[
              
            ]
          },
          "metadata":{
            
          },
          "output_type":"display_data"
        }
      ],
      "metadata":{
        
      }
    },
    {
      "cell_type":"code",
      "source":[
        "# Let Check Scaler\n",
        "print(RFMnorm.mean(axis = 0))\n",
        "print(RFMnorm.std(axis = 0))"
      ],
      "execution_count":351,
      "outputs":[
        {
          "name":"stdout",
          "text":[
            "[1.39526270e-16 1.66598531e-16 3.54021879e-17]\n",
            "[1. 1. 1.]\n"
          ],
          "output_type":"stream"
        }
      ],
      "metadata":{
        
      }
    },
    {
      "cell_type":"code",
      "source":[
        "distortions = []\n",
        "K = range(1,10)\n",
        "for k in K:\n",
        "    kmeanModel = KMeans(n_clusters=k, random_state=2)\n",
        "    kmeanModel.fit(RFMnorm)\n",
        "    distortions.append(kmeanModel.inertia_)"
      ],
      "execution_count":352,
      "outputs":[
        
      ],
      "metadata":{
        
      }
    },
    {
      "cell_type":"code",
      "source":[
        "distortions"
      ],
      "execution_count":353,
      "outputs":[
        {
          "data":{
            "text\/plain":[
              "[10236.000000000011,\n",
              " 7350.99843420529,\n",
              " 5660.546138644165,\n",
              " 4319.0614263467,\n",
              " 3883.3433881448336,\n",
              " 3482.9502564812037,\n",
              " 3143.413419116767,\n",
              " 2856.7403026824136,\n",
              " 2602.471143259374]"
            ]
          },
          "metadata":{
            
          },
          "output_type":"display_data"
        }
      ],
      "metadata":{
        
      }
    },
    {
      "cell_type":"code",
      "source":[
        "# plot\n",
        "plt.figure(figsize=(15, 10))\n",
        "plt.plot(range(1, 10), distortions, marker='o')\n",
        "plt.xlabel('Number of clusters')\n",
        "plt.ylabel('Distortion')\n",
        "plt.show()"
      ],
      "execution_count":354,
      "outputs":[
        {
          "data":{
            "image\/png":"[encoded data removed]"
          },
          "metadata":{
            "image\/png":{
              
            }
          },
          "output_type":"display_data"
        }
      ],
      "metadata":{
        
      }
    },
    {
      "cell_type":"code",
      "source":[
        "model = KMeans(n_clusters=4, random_state=2) \n",
        "\n",
        "model.fit(RFMnorm) "
      ],
      "execution_count":355,
      "outputs":[
        {
          "data":{
            "text\/plain":[
              "KMeans(n_clusters=4, random_state=2)"
            ]
          },
          "metadata":{
            
          },
          "output_type":"display_data"
        }
      ],
      "metadata":{
        
      }
    },
    {
      "cell_type":"code",
      "source":[
        "rfm1[\"Cluster\"] = model.labels_\n",
        "\n",
        "rfm1.head(10)"
      ],
      "execution_count":356,
      "outputs":[
        {
          "data":{
            "text\/html":[
              "<div>\n",
              "<style scoped>\n",
              "    .dataframe tbody tr th:only-of-type {\n",
              "        vertical-align: middle;\n",
              "    }\n",
              "\n",
              "    .dataframe tbody tr th {\n",
              "        vertical-align: top;\n",
              "    }\n",
              "\n",
              "    .dataframe thead th {\n",
              "        text-align: right;\n",
              "    }\n",
              "<\/style>\n",
              "<table border=\"1\" class=\"dataframe\">\n",
              "  <thead>\n",
              "    <tr style=\"text-align: right;\">\n",
              "      <th><\/th>\n",
              "      <th>Frequency<\/th>\n",
              "      <th>Monetary<\/th>\n",
              "      <th>Recency<\/th>\n",
              "      <th>Cluster<\/th>\n",
              "    <\/tr>\n",
              "    <tr>\n",
              "      <th>customer_id<\/th>\n",
              "      <th><\/th>\n",
              "      <th><\/th>\n",
              "      <th><\/th>\n",
              "      <th><\/th>\n",
              "    <\/tr>\n",
              "  <\/thead>\n",
              "  <tbody>\n",
              "    <tr>\n",
              "      <th>1<\/th>\n",
              "      <td>11<\/td>\n",
              "      <td>274.372<\/td>\n",
              "      <td>8<\/td>\n",
              "      <td>0<\/td>\n",
              "    <\/tr>\n",
              "    <tr>\n",
              "      <th>2<\/th>\n",
              "      <td>3<\/td>\n",
              "      <td>742.087<\/td>\n",
              "      <td>129<\/td>\n",
              "      <td>3<\/td>\n",
              "    <\/tr>\n",
              "    <tr>\n",
              "      <th>4<\/th>\n",
              "      <td>2<\/td>\n",
              "      <td>110.285<\/td>\n",
              "      <td>196<\/td>\n",
              "      <td>3<\/td>\n",
              "    <\/tr>\n",
              "    <tr>\n",
              "      <th>5<\/th>\n",
              "      <td>6<\/td>\n",
              "      <td>399.157<\/td>\n",
              "      <td>17<\/td>\n",
              "      <td>1<\/td>\n",
              "    <\/tr>\n",
              "    <tr>\n",
              "      <th>6<\/th>\n",
              "      <td>5<\/td>\n",
              "      <td>789.310<\/td>\n",
              "      <td>65<\/td>\n",
              "      <td>2<\/td>\n",
              "    <\/tr>\n",
              "    <tr>\n",
              "      <th>7<\/th>\n",
              "      <td>3<\/td>\n",
              "      <td>73.370<\/td>\n",
              "      <td>254<\/td>\n",
              "      <td>3<\/td>\n",
              "    <\/tr>\n",
              "    <tr>\n",
              "      <th>8<\/th>\n",
              "      <td>10<\/td>\n",
              "      <td>706.694<\/td>\n",
              "      <td>23<\/td>\n",
              "      <td>0<\/td>\n",
              "    <\/tr>\n",
              "    <tr>\n",
              "      <th>9<\/th>\n",
              "      <td>6<\/td>\n",
              "      <td>392.185<\/td>\n",
              "      <td>79<\/td>\n",
              "      <td>1<\/td>\n",
              "    <\/tr>\n",
              "    <tr>\n",
              "      <th>11<\/th>\n",
              "      <td>6<\/td>\n",
              "      <td>606.473<\/td>\n",
              "      <td>47<\/td>\n",
              "      <td>1<\/td>\n",
              "    <\/tr>\n",
              "    <tr>\n",
              "      <th>12<\/th>\n",
              "      <td>7<\/td>\n",
              "      <td>505.719<\/td>\n",
              "      <td>68<\/td>\n",
              "      <td>0<\/td>\n",
              "    <\/tr>\n",
              "  <\/tbody>\n",
              "<\/table>\n",
              "<\/div>"
            ]
          },
          "metadata":{
            
          },
          "output_type":"display_data"
        }
      ],
      "metadata":{
        
      }
    },
    {
      "cell_type":"code",
      "source":[
        "# Check centroid on each cluster\n",
        "rfm1.groupby(\"Cluster\").mean()"
      ],
      "execution_count":357,
      "outputs":[
        {
          "data":{
            "text\/html":[
              "<div>\n",
              "<style scoped>\n",
              "    .dataframe tbody tr th:only-of-type {\n",
              "        vertical-align: middle;\n",
              "    }\n",
              "\n",
              "    .dataframe tbody tr th {\n",
              "        vertical-align: top;\n",
              "    }\n",
              "\n",
              "    .dataframe thead th {\n",
              "        text-align: right;\n",
              "    }\n",
              "<\/style>\n",
              "<table border=\"1\" class=\"dataframe\">\n",
              "  <thead>\n",
              "    <tr style=\"text-align: right;\">\n",
              "      <th><\/th>\n",
              "      <th>Frequency<\/th>\n",
              "      <th>Monetary<\/th>\n",
              "      <th>Recency<\/th>\n",
              "    <\/tr>\n",
              "    <tr>\n",
              "      <th>Cluster<\/th>\n",
              "      <th><\/th>\n",
              "      <th><\/th>\n",
              "      <th><\/th>\n",
              "    <\/tr>\n",
              "  <\/thead>\n",
              "  <tbody>\n",
              "    <tr>\n",
              "      <th>0<\/th>\n",
              "      <td>8.569<\/td>\n",
              "      <td>538.870<\/td>\n",
              "      <td>36.011<\/td>\n",
              "    <\/tr>\n",
              "    <tr>\n",
              "      <th>1<\/th>\n",
              "      <td>4.830<\/td>\n",
              "      <td>387.718<\/td>\n",
              "      <td>43.689<\/td>\n",
              "    <\/tr>\n",
              "    <tr>\n",
              "      <th>2<\/th>\n",
              "      <td>4.863<\/td>\n",
              "      <td>834.792<\/td>\n",
              "      <td>52.400<\/td>\n",
              "    <\/tr>\n",
              "    <tr>\n",
              "      <th>3<\/th>\n",
              "      <td>3.762<\/td>\n",
              "      <td>487.337<\/td>\n",
              "      <td>173.131<\/td>\n",
              "    <\/tr>\n",
              "  <\/tbody>\n",
              "<\/table>\n",
              "<\/div>"
            ]
          },
          "metadata":{
            
          },
          "output_type":"display_data"
        }
      ],
      "metadata":{
        
      }
    },
    {
      "cell_type":"code",
      "source":[
        "import plotly.graph_objects as go\n",
        "\n",
        "ClusterPlot = go.Figure() \n",
        "\n",
        "for C in list(rfm1.Cluster.unique()): \n",
        "    \n",
        "    ClusterPlot.add_trace(go.Scatter3d(x = rfm1[rfm1.Cluster == C]['Recency'], \n",
        "                                y = rfm1[rfm1.Cluster == C]['Frequency'],\n",
        "                                z = rfm1[rfm1.Cluster == C]['Monetary'],\n",
        "                                mode = 'markers', marker_size = 5, marker_line_width = 1,\n",
        "                                name = 'Group ' + str(C)))\n",
        "\n",
        "\n",
        "ClusterPlot.update_layout(width = 1000, height = 1000, autosize = True, showlegend = True, \n",
        "                   scene = dict(xaxis=dict(title = 'Recency', titlefont_color = 'black'),\n",
        "                                yaxis=dict(title = 'Frequency', titlefont_color = 'black'),\n",
        "                                zaxis=dict(title = 'Monetary', titlefont_color = 'black')),\n",
        "                   font = dict(family = \"Gilroy\", color  = 'black', size = 12))\n",
        "\n",
        "ClusterPlot"
      ],
      "execution_count":358,
      "outputs":[
        {
          "data":{
            "text\/plain":[
              "Unsupported"
            ]
          },
          "metadata":{
            
          },
          "output_type":"display_data"
        }
      ],
      "metadata":{
        
      }
    }
  ],
  "metadata":{
    
  },
  "nbformat":4,
  "nbformat_minor":0
}